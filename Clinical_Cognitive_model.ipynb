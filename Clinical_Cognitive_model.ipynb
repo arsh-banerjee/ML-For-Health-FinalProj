{
 "cells": [
  {
   "cell_type": "code",
   "execution_count": 12,
   "metadata": {},
   "outputs": [],
   "source": [
    "import pandas as pd\n",
    "import numpy as np\n",
    "import matplotlib.pyplot as plt\n",
    "from sklearn.impute import SimpleImputer\n",
    "from sklearn.preprocessing import StandardScaler\n",
    "from sklearn.model_selection import train_test_split\n",
    "from sklearn.linear_model import LogisticRegression\n",
    "from sklearn.metrics import (\n",
    "    accuracy_score,\n",
    "    roc_auc_score,\n",
    "    confusion_matrix,\n",
    "    classification_report\n",
    ")"
   ]
  },
  {
   "cell_type": "code",
   "execution_count": 19,
   "metadata": {},
   "outputs": [
    {
     "name": "stdout",
     "output_type": "stream",
     "text": [
      "✅ Final merged shape: (4335, 22)\n"
     ]
    }
   ],
   "source": [
    "data_dir = \"PPMI_ds/\"\n",
    "\n",
    "files = {\n",
    "    \"diagnosis\": \"Primary_Clinical_Diagnosis_18Mar2025.csv\",\n",
    "    \"parkinsonism\": \"Features_of_Parkinsonism_18Mar2025.csv\",\n",
    "    \"rem\": \"Features_of_REM_Behavior_Disorder_18Mar2025.csv\",\n",
    "    \"cgi\": \"Clinical_Global_Impression__CGI__-_Investigator_18Mar2025.csv\",\n",
    "    \"exam\": \"General_Physical_Exam_18Mar2025.csv\"\n",
    "}\n",
    "\n",
    "dfs = {name: pd.read_csv(f\"{data_dir}/{fname}\") for name, fname in files.items()}\n",
    "\n",
    "# 🔹 Step 2: Clean general physical exam (pivot long format)\n",
    "exam_df = dfs['exam'][['PATNO', 'PECAT', 'ABNORM']]\n",
    "exam_wide = exam_df.pivot_table(index='PATNO', columns='PECAT', values='ABNORM', aggfunc='max')\n",
    "exam_wide.columns = [f\"ABNORM_{str(col).strip().replace(' ', '_')}\" for col in exam_wide.columns]\n",
    "exam_wide.reset_index(inplace=True)\n",
    "\n",
    "# 🔹 Step 3: Prepare label (PRIMDIAG from diagnosis file)\n",
    "label_df = dfs['diagnosis'][['PATNO', 'PRIMDIAG']].drop_duplicates(subset='PATNO')\n",
    "label_df['label'] = label_df['PRIMDIAG'].apply(lambda x: 1 if x == 17 else 0)\n",
    "label_df = label_df[['PATNO', 'label']]\n",
    "\n",
    "# 🔹 Step 4: Process and aggregate other files (1 row per PATNO)\n",
    "aggregated = []\n",
    "\n",
    "for key in ['parkinsonism', 'rem', 'cgi']:\n",
    "    df = dfs[key]\n",
    "    df = df.drop(columns=[col for col in df.columns if col in ['EVENT_ID', 'INFODT', 'REC_ID', 'PAG_NAME', 'ORIG_ENTRY', 'LAST_UPDATE']], errors='ignore')\n",
    "    df_grouped = df.groupby('PATNO').mean(numeric_only=True).reset_index()\n",
    "    aggregated.append(df_grouped)\n",
    "\n",
    "# 🔹 Step 5: Merge everything into one DataFrame\n",
    "merged = label_df.copy()\n",
    "\n",
    "for df in aggregated + [exam_wide]:\n",
    "    merged = merged.merge(df, on='PATNO', how='left')\n",
    "\n",
    "print(\"✅ Final merged shape:\", merged.shape)\n",
    "merged.to_csv(\"merged_clin.csv\")"
   ]
  },
  {
   "cell_type": "code",
   "execution_count": 22,
   "metadata": {},
   "outputs": [],
   "source": [
    "from sklearn.model_selection import train_test_split\n",
    "from sklearn.impute import SimpleImputer\n",
    "from sklearn.preprocessing import StandardScaler\n",
    "from sklearn.linear_model import LogisticRegression\n",
    "from sklearn.ensemble import RandomForestClassifier\n",
    "from sklearn.neural_network import MLPClassifier\n",
    "from sklearn.metrics import accuracy_score, roc_auc_score, classification_report, confusion_matrix\n",
    "import numpy as np\n",
    "import matplotlib.pyplot as plt\n",
    "\n",
    "\n",
    "X = merged.drop(columns=['PATNO', 'label'])\n",
    "y = merged['label']\n",
    "\n",
    "imputer = SimpleImputer(strategy='median')\n",
    "X_imputed = imputer.fit_transform(X)\n",
    "\n",
    "scaler = StandardScaler()\n",
    "X_scaled = scaler.fit_transform(X_imputed)\n",
    "\n",
    "X_train, X_test, y_train, y_test = train_test_split(\n",
    "    X_scaled, y, stratify=y, test_size=0.2, random_state=42\n",
    ")"
   ]
  },
  {
   "cell_type": "code",
   "execution_count": 23,
   "metadata": {},
   "outputs": [
    {
     "name": "stdout",
     "output_type": "stream",
     "text": [
      "🔹 Logistic Regression\n",
      "✅ Accuracy: 0.76239907727797\n",
      "📈 ROC AUC: 0.8476518394441342\n",
      "              precision    recall  f1-score   support\n",
      "\n",
      "           0       0.84      0.80      0.82       597\n",
      "           1       0.61      0.67      0.64       270\n",
      "\n",
      "    accuracy                           0.76       867\n",
      "   macro avg       0.73      0.74      0.73       867\n",
      "weighted avg       0.77      0.76      0.77       867\n",
      "\n"
     ]
    }
   ],
   "source": [
    "logreg = LogisticRegression(max_iter=1000)\n",
    "logreg.fit(X_train, y_train)\n",
    "logreg_pred = logreg.predict(X_test)\n",
    "logreg_proba = logreg.predict_proba(X_test)[:, 1]\n",
    "\n",
    "print(\"🔹 Logistic Regression\")\n",
    "print(\"✅ Accuracy:\", accuracy_score(y_test, logreg_pred))\n",
    "print(\"📈 ROC AUC:\", roc_auc_score(y_test, logreg_proba))\n",
    "print(classification_report(y_test, logreg_pred))"
   ]
  },
  {
   "cell_type": "code",
   "execution_count": 24,
   "metadata": {},
   "outputs": [
    {
     "name": "stdout",
     "output_type": "stream",
     "text": [
      "\n",
      "🔹 Random Forest\n",
      "✅ Accuracy: 0.803921568627451\n",
      "📈 ROC AUC: 0.8720050871642162\n",
      "              precision    recall  f1-score   support\n",
      "\n",
      "           0       0.86      0.86      0.86       597\n",
      "           1       0.68      0.69      0.69       270\n",
      "\n",
      "    accuracy                           0.80       867\n",
      "   macro avg       0.77      0.77      0.77       867\n",
      "weighted avg       0.80      0.80      0.80       867\n",
      "\n"
     ]
    }
   ],
   "source": [
    "rf = RandomForestClassifier(n_estimators=100, random_state=42)\n",
    "rf.fit(X_train, y_train)\n",
    "rf_pred = rf.predict(X_test)\n",
    "rf_proba = rf.predict_proba(X_test)[:, 1]\n",
    "\n",
    "print(\"\\n🔹 Random Forest\")\n",
    "print(\"✅ Accuracy:\", accuracy_score(y_test, rf_pred))\n",
    "print(\"📈 ROC AUC:\", roc_auc_score(y_test, rf_proba))\n",
    "print(classification_report(y_test, rf_pred))"
   ]
  },
  {
   "cell_type": "code",
   "execution_count": 25,
   "metadata": {},
   "outputs": [
    {
     "name": "stdout",
     "output_type": "stream",
     "text": [
      "\n",
      "🔹 MLP Neural Network\n",
      "✅ Accuracy: 0.7889273356401384\n",
      "📈 ROC AUC: 0.8450586264656615\n",
      "              precision    recall  f1-score   support\n",
      "\n",
      "           0       0.86      0.83      0.84       597\n",
      "           1       0.65      0.70      0.67       270\n",
      "\n",
      "    accuracy                           0.79       867\n",
      "   macro avg       0.75      0.77      0.76       867\n",
      "weighted avg       0.79      0.79      0.79       867\n",
      "\n"
     ]
    },
    {
     "name": "stderr",
     "output_type": "stream",
     "text": [
      "c:\\Users\\arsh0\\AppData\\Local\\Programs\\Python\\Python312\\Lib\\site-packages\\sklearn\\neural_network\\_multilayer_perceptron.py:691: ConvergenceWarning: Stochastic Optimizer: Maximum iterations (300) reached and the optimization hasn't converged yet.\n",
      "  warnings.warn(\n"
     ]
    }
   ],
   "source": [
    "mlp = MLPClassifier(hidden_layer_sizes=(64, 32), max_iter=300, random_state=42)\n",
    "mlp.fit(X_train, y_train)\n",
    "mlp_pred = mlp.predict(X_test)\n",
    "mlp_proba = mlp.predict_proba(X_test)[:, 1]\n",
    "\n",
    "print(\"\\n🔹 MLP Neural Network\")\n",
    "print(\"✅ Accuracy:\", accuracy_score(y_test, mlp_pred))\n",
    "print(\"📈 ROC AUC:\", roc_auc_score(y_test, mlp_proba))\n",
    "print(classification_report(y_test, mlp_pred))"
   ]
  },
  {
   "cell_type": "code",
   "execution_count": 26,
   "metadata": {},
   "outputs": [
    {
     "data": {
      "image/png": "[encoded data removed]",
      "text/plain": [
       "<Figure size 600x400 with 1 Axes>"
      ]
     },
     "metadata": {},
     "output_type": "display_data"
    }
   ],
   "source": [
    "import matplotlib.pyplot as plt\n",
    "\n",
    "# Use the y_test from previous context for class distribution\n",
    "# For demo, assume y contains the full label array\n",
    "\n",
    "# Simulate what y would look like\n",
    "import numpy as np\n",
    "from collections import Counter\n",
    "\n",
    "# Reconstruct y as binary just for visualization\n",
    "# Normally you'd pass your actual y Series here\n",
    "# Assuming we already have 'y' from your session\n",
    "try:\n",
    "    label_counts = Counter(y)\n",
    "except NameError:\n",
    "    label_counts = Counter(y)\n",
    "\n",
    "labels = ['Healthy Control', 'PD']\n",
    "counts = [label_counts[0], label_counts[1]]\n",
    "percentages = [count / sum(counts) * 100 for count in counts]\n",
    "\n",
    "# Plotting\n",
    "plt.figure(figsize=(6, 4))\n",
    "bars = plt.bar(labels, counts, edgecolor='black')\n",
    "plt.title('Class Distribution')\n",
    "plt.ylabel('Count')\n",
    "\n",
    "# Annotate with percentage\n",
    "for bar, pct in zip(bars, percentages):\n",
    "    height = bar.get_height()\n",
    "    plt.text(bar.get_x() + bar.get_width() / 2, height + 5, f'{pct:.1f}%', \n",
    "             ha='center', va='bottom', fontsize=10)\n",
    "\n",
    "plt.ylim(0, max(counts) * 1.2)\n",
    "plt.tight_layout()\n",
    "plt.show()\n"
   ]
  }
 ],
 "metadata": {
  "kernelspec": {
   "display_name": "Python 3",
   "language": "python",
   "name": "python3"
  },
  "language_info": {
   "codemirror_mode": {
    "name": "ipython",
    "version": 3
   },
   "file_extension": ".py",
   "mimetype": "text/x-python",
   "name": "python",
   "nbconvert_exporter": "python",
   "pygments_lexer": "ipython3",
   "version": "3.12.3"
  }
 },
 "nbformat": 4,
 "nbformat_minor": 2
}
