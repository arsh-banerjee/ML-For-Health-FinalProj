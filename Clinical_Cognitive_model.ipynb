{
 "cells": [
  {
   "cell_type": "code",
   "execution_count": 17,
   "metadata": {},
   "outputs": [],
   "source": [
    "import pandas as pd\n",
    "import numpy as np\n",
    "import matplotlib.pyplot as plt\n",
    "from sklearn.impute import SimpleImputer\n",
    "from sklearn.preprocessing import StandardScaler\n",
    "from sklearn.model_selection import train_test_split\n",
    "from sklearn.linear_model import LogisticRegression\n",
    "from sklearn.metrics import (\n",
    "    accuracy_score,\n",
    "    roc_auc_score,\n",
    "    confusion_matrix,\n",
    "    classification_report\n",
    ")"
   ]
  },
  {
   "cell_type": "code",
   "execution_count": 18,
   "metadata": {},
   "outputs": [
    {
     "name": "stdout",
     "output_type": "stream",
     "text": [
      "Requirement already satisfied: pandas in /Library/Frameworks/Python.framework/Versions/3.12/lib/python3.12/site-packages (2.2.3)\n",
      "Requirement already satisfied: numpy in /Library/Frameworks/Python.framework/Versions/3.12/lib/python3.12/site-packages (2.2.5)\n",
      "Requirement already satisfied: matplotlib in /Library/Frameworks/Python.framework/Versions/3.12/lib/python3.12/site-packages (3.10.1)\n",
      "Requirement already satisfied: scikit-learn in /Library/Frameworks/Python.framework/Versions/3.12/lib/python3.12/site-packages (1.6.1)\n",
      "Requirement already satisfied: python-dateutil>=2.8.2 in /Users/samylokanandi/Library/Python/3.12/lib/python/site-packages (from pandas) (2.9.0.post0)\n",
      "Requirement already satisfied: pytz>=2020.1 in /Library/Frameworks/Python.framework/Versions/3.12/lib/python3.12/site-packages (from pandas) (2025.2)\n",
      "Requirement already satisfied: tzdata>=2022.7 in /Library/Frameworks/Python.framework/Versions/3.12/lib/python3.12/site-packages (from pandas) (2025.2)\n",
      "Requirement already satisfied: contourpy>=1.0.1 in /Library/Frameworks/Python.framework/Versions/3.12/lib/python3.12/site-packages (from matplotlib) (1.3.2)\n",
      "Requirement already satisfied: cycler>=0.10 in /Library/Frameworks/Python.framework/Versions/3.12/lib/python3.12/site-packages (from matplotlib) (0.12.1)\n",
      "Requirement already satisfied: fonttools>=4.22.0 in /Library/Frameworks/Python.framework/Versions/3.12/lib/python3.12/site-packages (from matplotlib) (4.57.0)\n",
      "Requirement already satisfied: kiwisolver>=1.3.1 in /Library/Frameworks/Python.framework/Versions/3.12/lib/python3.12/site-packages (from matplotlib) (1.4.8)\n",
      "Requirement already satisfied: packaging>=20.0 in /Users/samylokanandi/Library/Python/3.12/lib/python/site-packages (from matplotlib) (24.1)\n",
      "Requirement already satisfied: pillow>=8 in /Library/Frameworks/Python.framework/Versions/3.12/lib/python3.12/site-packages (from matplotlib) (11.2.1)\n",
      "Requirement already satisfied: pyparsing>=2.3.1 in /Library/Frameworks/Python.framework/Versions/3.12/lib/python3.12/site-packages (from matplotlib) (3.2.3)\n",
      "Requirement already satisfied: scipy>=1.6.0 in /Library/Frameworks/Python.framework/Versions/3.12/lib/python3.12/site-packages (from scikit-learn) (1.15.2)\n",
      "Requirement already satisfied: joblib>=1.2.0 in /Library/Frameworks/Python.framework/Versions/3.12/lib/python3.12/site-packages (from scikit-learn) (1.4.2)\n",
      "Requirement already satisfied: threadpoolctl>=3.1.0 in /Library/Frameworks/Python.framework/Versions/3.12/lib/python3.12/site-packages (from scikit-learn) (3.6.0)\n",
      "Requirement already satisfied: six>=1.5 in /Users/samylokanandi/Library/Python/3.12/lib/python/site-packages (from python-dateutil>=2.8.2->pandas) (1.16.0)\n",
      "\n",
      "\u001b[1m[\u001b[0m\u001b[34;49mnotice\u001b[0m\u001b[1;39;49m]\u001b[0m\u001b[39;49m A new release of pip is available: \u001b[0m\u001b[31;49m24.2\u001b[0m\u001b[39;49m -> \u001b[0m\u001b[32;49m25.0.1\u001b[0m\n",
      "\u001b[1m[\u001b[0m\u001b[34;49mnotice\u001b[0m\u001b[1;39;49m]\u001b[0m\u001b[39;49m To update, run: \u001b[0m\u001b[32;49mpip3 install --upgrade pip\u001b[0m\n",
      "Note: you may need to restart the kernel to use updated packages.\n"
     ]
    }
   ],
   "source": [
    "pip install pandas numpy matplotlib scikit-learn\n"
   ]
  },
  {
   "cell_type": "code",
   "execution_count": 19,
   "metadata": {},
   "outputs": [
    {
     "name": "stdout",
     "output_type": "stream",
     "text": [
      "✅ Final merged shape: (4335, 22)\n"
     ]
    }
   ],
   "source": [
    "data_dir = \"PPMI_ds/\"\n",
    "\n",
    "files = {\n",
    "    \"diagnosis\": \"Primary_Clinical_Diagnosis_18Mar2025.csv\",\n",
    "    \"parkinsonism\": \"Features_of_Parkinsonism_18Mar2025.csv\",\n",
    "    \"rem\": \"Features_of_REM_Behavior_Disorder_18Mar2025.csv\",\n",
    "    \"cgi\": \"Clinical_Global_Impression__CGI__-_Investigator_18Mar2025.csv\",\n",
    "    \"exam\": \"General_Physical_Exam_18Mar2025.csv\"\n",
    "}\n",
    "\n",
    "dfs = {name: pd.read_csv(f\"{data_dir}/{fname}\") for name, fname in files.items()}\n",
    "\n",
    "# 🔹 Step 2: Clean general physical exam (pivot long format)\n",
    "exam_df = dfs['exam'][['PATNO', 'PECAT', 'ABNORM']]\n",
    "exam_wide = exam_df.pivot_table(index='PATNO', columns='PECAT', values='ABNORM', aggfunc='max')\n",
    "exam_wide.columns = [f\"ABNORM_{str(col).strip().replace(' ', '_')}\" for col in exam_wide.columns]\n",
    "exam_wide.reset_index(inplace=True)\n",
    "\n",
    "# 🔹 Step 3: Prepare label (PRIMDIAG from diagnosis file)\n",
    "label_df = dfs['diagnosis'][['PATNO', 'PRIMDIAG']].drop_duplicates(subset='PATNO')\n",
    "label_df['label'] = label_df['PRIMDIAG'].apply(lambda x: 1 if x == 17 else 0)\n",
    "label_df = label_df[['PATNO', 'label']]\n",
    "\n",
    "# 🔹 Step 4: Process and aggregate other files (1 row per PATNO)\n",
    "aggregated = []\n",
    "\n",
    "for key in ['parkinsonism', 'rem', 'cgi']:\n",
    "    df = dfs[key]\n",
    "    df = df.drop(columns=[col for col in df.columns if col in ['EVENT_ID', 'INFODT', 'REC_ID', 'PAG_NAME', 'ORIG_ENTRY', 'LAST_UPDATE']], errors='ignore')\n",
    "    df_grouped = df.groupby('PATNO').mean(numeric_only=True).reset_index()\n",
    "    aggregated.append(df_grouped)\n",
    "\n",
    "# 🔹 Step 5: Merge everything into one DataFrame\n",
    "merged = label_df.copy()\n",
    "\n",
    "for df in aggregated + [exam_wide]:\n",
    "    merged = merged.merge(df, on='PATNO', how='left')\n",
    "\n",
    "print(\"✅ Final merged shape:\", merged.shape)\n",
    "merged.to_csv(\"merged_clin.csv\")"
   ]
  },
  {
   "cell_type": "code",
   "execution_count": 20,
   "metadata": {},
   "outputs": [],
   "source": [
    "from sklearn.model_selection import train_test_split\n",
    "from sklearn.impute import SimpleImputer\n",
    "from sklearn.preprocessing import StandardScaler\n",
    "from sklearn.linear_model import LogisticRegression\n",
    "from sklearn.ensemble import RandomForestClassifier\n",
    "from sklearn.neural_network import MLPClassifier\n",
    "from sklearn.metrics import accuracy_score, roc_auc_score, classification_report, confusion_matrix\n",
    "import numpy as np\n",
    "import matplotlib.pyplot as plt\n",
    "\n",
    "\n",
    "X = merged.drop(columns=['PATNO', 'label'])\n",
    "y = merged['label']\n",
    "\n",
    "imputer = SimpleImputer(strategy='median')\n",
    "X_imputed = imputer.fit_transform(X)\n",
    "\n",
    "scaler = StandardScaler()\n",
    "X_scaled = scaler.fit_transform(X_imputed)\n",
    "\n",
    "X_train, X_test, y_train, y_test = train_test_split(\n",
    "    X_scaled, y, stratify=y, test_size=0.2, random_state=42\n",
    ")"
   ]
  },
  {
   "cell_type": "code",
   "execution_count": 21,
   "metadata": {},
   "outputs": [
    {
     "name": "stdout",
     "output_type": "stream",
     "text": [
      "🔹 Logistic Regression\n",
      "✅ Accuracy: 0.76239907727797\n",
      "📈 ROC AUC: 0.8476518394441342\n",
      "              precision    recall  f1-score   support\n",
      "\n",
      "           0       0.84      0.80      0.82       597\n",
      "           1       0.61      0.67      0.64       270\n",
      "\n",
      "    accuracy                           0.76       867\n",
      "   macro avg       0.73      0.74      0.73       867\n",
      "weighted avg       0.77      0.76      0.77       867\n",
      "\n"
     ]
    }
   ],
   "source": [
    "logreg = LogisticRegression(max_iter=1000)\n",
    "logreg.fit(X_train, y_train)\n",
    "logreg_pred = logreg.predict(X_test)\n",
    "logreg_proba = logreg.predict_proba(X_test)[:, 1]\n",
    "\n",
    "print(\"🔹 Logistic Regression\")\n",
    "print(\"✅ Accuracy:\", accuracy_score(y_test, logreg_pred))\n",
    "print(\"📈 ROC AUC:\", roc_auc_score(y_test, logreg_proba))\n",
    "print(classification_report(y_test, logreg_pred))"
   ]
  },
  {
   "cell_type": "code",
   "execution_count": 22,
   "metadata": {},
   "outputs": [
    {
     "name": "stdout",
     "output_type": "stream",
     "text": [
      "\n",
      "🔹 Random Forest\n",
      "✅ Accuracy: 0.8050749711649365\n",
      "📈 ROC AUC: 0.8724145418450276\n",
      "              precision    recall  f1-score   support\n",
      "\n",
      "           0       0.86      0.86      0.86       597\n",
      "           1       0.68      0.69      0.69       270\n",
      "\n",
      "    accuracy                           0.81       867\n",
      "   macro avg       0.77      0.77      0.77       867\n",
      "weighted avg       0.81      0.81      0.81       867\n",
      "\n"
     ]
    }
   ],
   "source": [
    "rf = RandomForestClassifier(n_estimators=100, random_state=42)\n",
    "rf.fit(X_train, y_train)\n",
    "rf_pred = rf.predict(X_test)\n",
    "rf_proba = rf.predict_proba(X_test)[:, 1]\n",
    "\n",
    "print(\"\\n🔹 Random Forest\")\n",
    "print(\"✅ Accuracy:\", accuracy_score(y_test, rf_pred))\n",
    "print(\"📈 ROC AUC:\", roc_auc_score(y_test, rf_proba))\n",
    "print(classification_report(y_test, rf_pred))"
   ]
  },
  {
   "cell_type": "code",
   "execution_count": 23,
   "metadata": {},
   "outputs": [
    {
     "name": "stdout",
     "output_type": "stream",
     "text": [
      "\n",
      "🔹 MLP Neural Network\n",
      "✅ Accuracy: 0.7889273356401384\n",
      "📈 ROC AUC: 0.8450586264656615\n",
      "              precision    recall  f1-score   support\n",
      "\n",
      "           0       0.86      0.83      0.84       597\n",
      "           1       0.65      0.70      0.67       270\n",
      "\n",
      "    accuracy                           0.79       867\n",
      "   macro avg       0.75      0.77      0.76       867\n",
      "weighted avg       0.79      0.79      0.79       867\n",
      "\n"
     ]
    },
    {
     "name": "stderr",
     "output_type": "stream",
     "text": [
      "/Library/Frameworks/Python.framework/Versions/3.12/lib/python3.12/site-packages/sklearn/neural_network/_multilayer_perceptron.py:691: ConvergenceWarning: Stochastic Optimizer: Maximum iterations (300) reached and the optimization hasn't converged yet.\n",
      "  warnings.warn(\n"
     ]
    }
   ],
   "source": [
    "mlp = MLPClassifier(hidden_layer_sizes=(64, 32), max_iter=300, random_state=42)\n",
    "mlp.fit(X_train, y_train)\n",
    "mlp_pred = mlp.predict(X_test)\n",
    "mlp_proba = mlp.predict_proba(X_test)[:, 1]\n",
    "\n",
    "print(\"\\n🔹 MLP Neural Network\")\n",
    "print(\"✅ Accuracy:\", accuracy_score(y_test, mlp_pred))\n",
    "print(\"📈 ROC AUC:\", roc_auc_score(y_test, mlp_proba))\n",
    "print(classification_report(y_test, mlp_pred))"
   ]
  },
  {
   "cell_type": "code",
   "execution_count": 24,
   "metadata": {},
   "outputs": [
    {
     "data": {
      "image/png": "[encoded data removed]",
      "text/plain": [
       "<Figure size 600x400 with 1 Axes>"
      ]
     },
     "metadata": {},
     "output_type": "display_data"
    }
   ],
   "source": [
    "import matplotlib.pyplot as plt\n",
    "\n",
    "# Use the y_test from previous context for class distribution\n",
    "# For demo, assume y contains the full label array\n",
    "\n",
    "# Simulate what y would look like\n",
    "import numpy as np\n",
    "from collections import Counter\n",
    "\n",
    "# Reconstruct y as binary just for visualization\n",
    "# Normally you'd pass your actual y Series here\n",
    "# Assuming we already have 'y' from your session\n",
    "try:\n",
    "    label_counts = Counter(y)\n",
    "except NameError:\n",
    "    label_counts = Counter(y)\n",
    "\n",
    "labels = ['Healthy Control', 'PD']\n",
    "counts = [label_counts[0], label_counts[1]]\n",
    "percentages = [count / sum(counts) * 100 for count in counts]\n",
    "\n",
    "# Plotting\n",
    "plt.figure(figsize=(6, 4))\n",
    "bars = plt.bar(labels, counts, edgecolor='black')\n",
    "plt.title('Class Distribution')\n",
    "plt.ylabel('Count')\n",
    "\n",
    "# Annotate with percentage\n",
    "for bar, pct in zip(bars, percentages):\n",
    "    height = bar.get_height()\n",
    "    plt.text(bar.get_x() + bar.get_width() / 2, height + 5, f'{pct:.1f}%', \n",
    "             ha='center', va='bottom', fontsize=10)\n",
    "\n",
    "plt.ylim(0, max(counts) * 1.2)\n",
    "plt.tight_layout()\n",
    "plt.show()\n"
   ]
  },
  {
   "cell_type": "code",
   "execution_count": 31,
   "metadata": {},
   "outputs": [],
   "source": [
    "# Reshaping the data \n",
    "import numpy as np\n",
    "\n",
    "# Assuming X is your feature matrix of shape (num_samples, num_features)\n",
    "# and you decide on a sequence length\n",
    "sequence_length = 1  # Adjust based on your data\n",
    "input_size = X.shape[1] // sequence_length\n",
    "\n",
    "# Reshape X to (num_samples, sequence_length, input_size)\n",
    "X_reshaped = X.values.reshape(-1, sequence_length, input_size)\n"
   ]
  },
  {
   "cell_type": "code",
   "execution_count": 43,
   "metadata": {},
   "outputs": [
    {
     "name": "stdout",
     "output_type": "stream",
     "text": [
      "Train input shape: torch.Size([3468, 1, 20])\n",
      "Val input shape:   torch.Size([867, 1, 20])\n"
     ]
    }
   ],
   "source": [
    "import torch\n",
    "from torch.utils.data import TensorDataset, DataLoader\n",
    "\n",
    "# Step 1: Reshape for RNN input — add a dummy sequence length dimension\n",
    "X_train = X_train.reshape(X_train.shape[0], 1, X_train.shape[1])\n",
    "X_test = X_test.reshape(X_test.shape[0], 1, X_test.shape[1])\n",
    "\n",
    "# Step 2: Convert to PyTorch tensors\n",
    "X_train_tensor = torch.tensor(X_train, dtype=torch.float32)\n",
    "y_train_tensor = torch.tensor(y_train.values, dtype=torch.long)\n",
    "X_test_tensor = torch.tensor(X_test, dtype=torch.float32)\n",
    "y_test_tensor = torch.tensor(y_test.values, dtype=torch.long)\n",
    "\n",
    "# Step 3: Create TensorDatasets\n",
    "train_dataset = TensorDataset(X_train_tensor, y_train_tensor)\n",
    "val_dataset = TensorDataset(X_test_tensor, y_test_tensor)\n",
    "\n",
    "# Step 4: Create DataLoaders\n",
    "train_loader = DataLoader(train_dataset, batch_size=32, shuffle=True)\n",
    "val_loader = DataLoader(val_dataset, batch_size=32)\n",
    "\n",
    "# Optional: check shapes\n",
    "print(f\"Train input shape: {X_train_tensor.shape}\")\n",
    "print(f\"Val input shape:   {X_test_tensor.shape}\")\n"
   ]
  },
  {
   "cell_type": "code",
   "execution_count": 44,
   "metadata": {},
   "outputs": [],
   "source": [
    "import torch.nn as nn\n",
    "\n",
    "class RNNModel(nn.Module):\n",
    "    def __init__(self, input_size, hidden_size=64, num_layers=1, output_size=2):\n",
    "        super(RNNModel, self).__init__()\n",
    "        self.lstm = nn.LSTM(input_size=input_size,\n",
    "                            hidden_size=hidden_size,\n",
    "                            num_layers=num_layers,\n",
    "                            batch_first=True)\n",
    "        self.fc = nn.Linear(hidden_size, output_size)\n",
    "\n",
    "    def forward(self, x):\n",
    "        out, _ = self.lstm(x)\n",
    "        out = self.fc(out[:, -1, :])  # use last time step\n",
    "        return out\n"
   ]
  },
  {
   "cell_type": "code",
   "execution_count": 45,
   "metadata": {},
   "outputs": [
    {
     "name": "stdout",
     "output_type": "stream",
     "text": [
      "Epoch 1/20 - Train Loss: 0.5469 - Val Loss: 0.4312 - Val Acc: 0.7612\n",
      "Epoch 2/20 - Train Loss: 0.4238 - Val Loss: 0.4160 - Val Acc: 0.7647\n",
      "Epoch 3/20 - Train Loss: 0.4144 - Val Loss: 0.4116 - Val Acc: 0.7739\n",
      "Epoch 4/20 - Train Loss: 0.4092 - Val Loss: 0.4075 - Val Acc: 0.7716\n",
      "Epoch 5/20 - Train Loss: 0.4060 - Val Loss: 0.4052 - Val Acc: 0.7647\n",
      "Epoch 6/20 - Train Loss: 0.4031 - Val Loss: 0.4031 - Val Acc: 0.7774\n",
      "Epoch 7/20 - Train Loss: 0.4006 - Val Loss: 0.4026 - Val Acc: 0.7774\n",
      "Epoch 8/20 - Train Loss: 0.3953 - Val Loss: 0.4006 - Val Acc: 0.7785\n",
      "Epoch 9/20 - Train Loss: 0.3932 - Val Loss: 0.4014 - Val Acc: 0.7751\n",
      "Epoch 10/20 - Train Loss: 0.3900 - Val Loss: 0.4012 - Val Acc: 0.7762\n",
      "Epoch 11/20 - Train Loss: 0.3877 - Val Loss: 0.4012 - Val Acc: 0.7774\n",
      "Epoch 12/20 - Train Loss: 0.3872 - Val Loss: 0.4066 - Val Acc: 0.7774\n",
      "Epoch 13/20 - Train Loss: 0.3849 - Val Loss: 0.4051 - Val Acc: 0.7832\n",
      "Epoch 14/20 - Train Loss: 0.3825 - Val Loss: 0.4043 - Val Acc: 0.7751\n",
      "Epoch 15/20 - Train Loss: 0.3813 - Val Loss: 0.4069 - Val Acc: 0.7878\n",
      "Epoch 16/20 - Train Loss: 0.3788 - Val Loss: 0.4065 - Val Acc: 0.7785\n",
      "Epoch 17/20 - Train Loss: 0.3767 - Val Loss: 0.4077 - Val Acc: 0.7855\n",
      "Epoch 18/20 - Train Loss: 0.3747 - Val Loss: 0.4090 - Val Acc: 0.7855\n",
      "Epoch 19/20 - Train Loss: 0.3748 - Val Loss: 0.4107 - Val Acc: 0.7809\n",
      "Epoch 20/20 - Train Loss: 0.3712 - Val Loss: 0.4103 - Val Acc: 0.7924\n"
     ]
    }
   ],
   "source": [
    "import torch\n",
    "from sklearn.metrics import accuracy_score\n",
    "\n",
    "device = torch.device(\"cuda\" if torch.cuda.is_available() else \"cpu\")\n",
    "\n",
    "# Set hyperparameters\n",
    "input_size = X_train.shape[2]  # number of features\n",
    "hidden_size = 64\n",
    "num_layers = 1\n",
    "output_size = 2\n",
    "num_epochs = 20\n",
    "learning_rate = 0.001\n",
    "\n",
    "# Initialize model\n",
    "model = RNNModel(input_size, hidden_size, num_layers, output_size).to(device)\n",
    "criterion = nn.CrossEntropyLoss()\n",
    "optimizer = torch.optim.Adam(model.parameters(), lr=learning_rate)\n",
    "\n",
    "# Training loop\n",
    "for epoch in range(num_epochs):\n",
    "    model.train()\n",
    "    train_losses = []\n",
    "\n",
    "    for inputs, labels in train_loader:\n",
    "        inputs, labels = inputs.to(device), labels.to(device)\n",
    "\n",
    "        optimizer.zero_grad()\n",
    "        outputs = model(inputs)\n",
    "        loss = criterion(outputs, labels)\n",
    "        loss.backward()\n",
    "        optimizer.step()\n",
    "        train_losses.append(loss.item())\n",
    "\n",
    "    # Validation loop\n",
    "    model.eval()\n",
    "    val_losses = []\n",
    "    all_preds = []\n",
    "    all_labels = []\n",
    "\n",
    "    with torch.no_grad():\n",
    "        for val_inputs, val_labels in val_loader:\n",
    "            val_inputs, val_labels = val_inputs.to(device), val_labels.to(device)\n",
    "            val_outputs = model(val_inputs)\n",
    "            val_loss = criterion(val_outputs, val_labels)\n",
    "            val_losses.append(val_loss.item())\n",
    "\n",
    "            _, preds = torch.max(val_outputs, 1)\n",
    "            all_preds.extend(preds.cpu().numpy())\n",
    "            all_labels.extend(val_labels.cpu().numpy())\n",
    "\n",
    "    val_acc = accuracy_score(all_labels, all_preds)\n",
    "    \n",
    "    print(f\"Epoch {epoch+1}/{num_epochs} - Train Loss: {sum(train_losses)/len(train_losses):.4f} \"\n",
    "          f\"- Val Loss: {sum(val_losses)/len(val_losses):.4f} - Val Acc: {val_acc:.4f}\")\n"
   ]
  },
  {
   "cell_type": "code",
   "execution_count": 46,
   "metadata": {},
   "outputs": [
    {
     "name": "stdout",
     "output_type": "stream",
     "text": [
      "✅ Final Evaluation on Validation Set\n",
      "Confusion Matrix:\n",
      "[[484 113]\n",
      " [ 67 203]]\n",
      "\n",
      "Classification Report:\n",
      "              precision    recall  f1-score   support\n",
      "\n",
      "     Control       0.88      0.81      0.84       597\n",
      "          PD       0.64      0.75      0.69       270\n",
      "\n",
      "    accuracy                           0.79       867\n",
      "   macro avg       0.76      0.78      0.77       867\n",
      "weighted avg       0.80      0.79      0.80       867\n",
      "\n",
      "AUC-ROC: 0.8696\n"
     ]
    }
   ],
   "source": [
    "from sklearn.metrics import classification_report, confusion_matrix, roc_auc_score\n",
    "\n",
    "# Evaluate on validation set\n",
    "model.eval()\n",
    "all_preds = []\n",
    "all_probs = []\n",
    "all_labels = []\n",
    "\n",
    "with torch.no_grad():\n",
    "    for inputs, labels in val_loader:\n",
    "        inputs, labels = inputs.to(device), labels.to(device)\n",
    "        outputs = model(inputs)\n",
    "\n",
    "        # Get predicted class\n",
    "        _, preds = torch.max(outputs, 1)\n",
    "        all_preds.extend(preds.cpu().numpy())\n",
    "\n",
    "        # Get raw probabilities for AUC\n",
    "        probs = torch.softmax(outputs, dim=1)[:, 1]  # PD = class 1\n",
    "        all_probs.extend(probs.cpu().numpy())\n",
    "        all_labels.extend(labels.cpu().numpy())\n",
    "\n",
    "# Accuracy & report\n",
    "print(\"✅ Final Evaluation on Validation Set\")\n",
    "print(\"Confusion Matrix:\")\n",
    "print(confusion_matrix(all_labels, all_preds))\n",
    "print(\"\\nClassification Report:\")\n",
    "print(classification_report(all_labels, all_preds, target_names=[\"Control\", \"PD\"]))\n",
    "\n",
    "# AUC\n",
    "auc_score = roc_auc_score(all_labels, all_probs)\n",
    "print(f\"AUC-ROC: {auc_score:.4f}\")\n"
   ]
  }
 ],
 "metadata": {
  "kernelspec": {
   "display_name": "Python 3",
   "language": "python",
   "name": "python3"
  },
  "language_info": {
   "codemirror_mode": {
    "name": "ipython",
    "version": 3
   },
   "file_extension": ".py",
   "mimetype": "text/x-python",
   "name": "python",
   "nbconvert_exporter": "python",
   "pygments_lexer": "ipython3",
   "version": "3.12.5"
  }
 },
 "nbformat": 4,
 "nbformat_minor": 2
}
