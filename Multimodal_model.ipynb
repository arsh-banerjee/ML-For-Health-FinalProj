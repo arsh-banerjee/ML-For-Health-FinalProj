{
 "cells": [
  {
   "cell_type": "code",
   "execution_count": 7,
   "id": "1b1f96d6",
   "metadata": {},
   "outputs": [],
   "source": [
    "import pandas as pd\n",
    "import numpy as np\n",
    "import matplotlib.pyplot as plt\n",
    "import seaborn as sns\n",
    "\n",
    "from sklearn.model_selection import train_test_split, StratifiedKFold\n",
    "from sklearn.impute import KNNImputer\n",
    "from sklearn.ensemble import RandomForestClassifier\n",
    "from sklearn.linear_model import LogisticRegression\n",
    "from sklearn.metrics import classification_report, roc_auc_score, confusion_matrix\n",
    "from imblearn.over_sampling import SMOTE\n",
    "from collections import Counter\n",
    "\n",
    "from sklearn.model_selection import train_test_split\n",
    "from sklearn.ensemble import RandomForestClassifier\n",
    "from sklearn.metrics import classification_report, roc_auc_score\n",
    "\n",
    "import shap\n",
    "import warnings\n",
    "warnings.filterwarnings('ignore')\n"
   ]
  },
  {
   "cell_type": "code",
   "execution_count": 52,
   "id": "1c9d6159",
   "metadata": {},
   "outputs": [
    {
     "name": "stdout",
     "output_type": "stream",
     "text": [
      "✅ Final combined dataset shape: (757, 114)\n"
     ]
    }
   ],
   "source": [
    "# Set dataset path\n",
    "data_dir = \"PPMI_ds/\"\n",
    "\n",
    "### --- Clinical + Cognitive Modality --- ###\n",
    "clinical_files = {\n",
    "    \"diagnosis\": \"Primary_Clinical_Diagnosis_18Mar2025.csv\",\n",
    "    \"parkinsonism\": \"Features_of_Parkinsonism_18Mar2025.csv\",\n",
    "    \"rem\": \"Features_of_REM_Behavior_Disorder_18Mar2025.csv\",\n",
    "    \"cgi\": \"Clinical_Global_Impression__CGI__-_Investigator_18Mar2025.csv\",\n",
    "    \"exam\": \"General_Physical_Exam_18Mar2025.csv\"\n",
    "}\n",
    "\n",
    "clinical_dfs = {name: pd.read_csv(os.path.join(data_dir, fname)) for name, fname in clinical_files.items()}\n",
    "\n",
    "# General Physical Exam (pivoted)\n",
    "exam_df = clinical_dfs['exam'][['PATNO', 'PECAT', 'ABNORM']]\n",
    "exam_wide = exam_df.pivot_table(index='PATNO', columns='PECAT', values='ABNORM', aggfunc='max')\n",
    "exam_wide.columns = [f\"ABNORM_{str(col).strip().replace(' ', '_')}\" for col in exam_wide.columns]\n",
    "exam_wide.reset_index(inplace=True)\n",
    "\n",
    "# Diagnosis and label\n",
    "label_df = clinical_dfs['diagnosis'][['PATNO', 'PRIMDIAG']].drop_duplicates(subset='PATNO')\n",
    "label_df['label'] = label_df['PRIMDIAG'].apply(lambda x: 1 if x == 17 else 0)\n",
    "label_df = label_df[['PATNO', 'label']]\n",
    "\n",
    "# Aggregate cognitive/clinical data\n",
    "aggregated = []\n",
    "for key in ['parkinsonism', 'rem', 'cgi']:\n",
    "    df = clinical_dfs[key].drop(columns=[\n",
    "        'EVENT_ID', 'INFODT', 'REC_ID', 'PAG_NAME', 'ORIG_ENTRY', 'LAST_UPDATE'\n",
    "    ], errors='ignore')\n",
    "    aggregated.append(df.groupby('PATNO').mean(numeric_only=True).reset_index())\n",
    "\n",
    "# Merge clinical features\n",
    "clinical_merged = label_df.copy()\n",
    "for df in aggregated + [exam_wide]:\n",
    "    clinical_merged = clinical_merged.merge(df, on='PATNO', how='left')\n",
    "\n",
    "### --- Genetic + Biomarker Modality --- ###\n",
    "genetic_df = pd.read_csv(os.path.join(data_dir, \"iu_genetic_consensus_20250225_18Mar2025.csv\"))\n",
    "variants_df = pd.read_csv(os.path.join(data_dir, \"PPMI_PD_Variants_Genetic_Status_WGS_20180921.csv\"))\n",
    "sbr_df = pd.read_csv(os.path.join(data_dir, \"DaTScan_SBR_Analysis_18Mar2025.csv\"))\n",
    "diagnosis_df = pd.read_csv(os.path.join(data_dir, \"Primary_Clinical_Diagnosis_18Mar2025.csv\"))\n",
    "\n",
    "# Merge all genetic tables\n",
    "genetic_merged = genetic_df.merge(variants_df, on='PATNO', how='inner')\n",
    "genetic_merged = genetic_merged.merge(sbr_df, on='PATNO', how='inner')\n",
    "genetic_merged = genetic_merged.merge(diagnosis_df[['PATNO', 'PRIMDIAG']], on='PATNO', how='inner')\n",
    "\n",
    "# Clean up columns with excessive missingness and convert binaries\n",
    "genetic_merged = genetic_merged.dropna(axis=1, thresh=len(genetic_merged) * 0.6)\n",
    "binary_cols = ['CLIA', 'GWAS', 'WES', 'WGS', 'SVs', 'SANGER', 'IU_Fingerprint', 'RNASEQ', 'RNASEQ_VIS']\n",
    "for col in binary_cols:\n",
    "    if col in genetic_merged.columns:\n",
    "        genetic_merged[col] = genetic_merged[col].map({'X': 1, '-': 0})\n",
    "\n",
    "# Encode categorical columns\n",
    "non_numeric = genetic_merged.select_dtypes(include=['object']).columns\n",
    "encoder = OrdinalEncoder()\n",
    "genetic_merged[non_numeric] = encoder.fit_transform(genetic_merged[non_numeric])\n",
    "\n",
    "# Retain PATNO and drop duplicate PRIMDIAG\n",
    "genetic_merged = genetic_merged.drop(columns=['PRIMDIAG'], errors='ignore')\n",
    "\n",
    "### --- Merge Both Modalities on PATNO --- ###\n",
    "final_df = clinical_merged.merge(genetic_merged, on='PATNO', how='inner')\n",
    "\n",
    "# Final shape and export\n",
    "\n",
    "final_df = final_df.drop_duplicates()\n",
    "\n",
    "\n",
    "df_sorted = final_df.sort_values(by=['PATNO', 'DATSCAN_DATE'])  # or 'EVENT_ID'\n",
    "df_deduped = df_sorted.drop_duplicates(subset='PATNO', keep='first')\n",
    "\n",
    "leakage_cols = ['PSGLVL'] + [col for col in df_deduped.columns if 'DATSCAN' in col]\n",
    "df_deduped = df_deduped.drop(columns=leakage_cols)\n",
    "\n",
    "print(\"✅ Final combined dataset shape:\", df_deduped.shape)\n",
    "df_deduped.to_csv(\"PPMI_multimodal_combined.csv\", index=False)\n"
   ]
  },
  {
   "cell_type": "code",
   "execution_count": 53,
   "id": "df6b864c",
   "metadata": {},
   "outputs": [
    {
     "name": "stdout",
     "output_type": "stream",
     "text": [
      "Dataset shape: (757, 114)\n",
      "['PATNO', 'label', 'FEATBRADY', 'FEATPOSINS', 'FEATRIGID', 'FEATTREMOR', 'RBDDIAG', 'RBDPSG', 'INVESTAST', 'ABNORM_Abdomen', 'ABNORM_Cardiovascular_(including_peripheral_vascular)', 'ABNORM_Ears/Nose/Throat', 'ABNORM_Eyes', 'ABNORM_Head/Neck/Lymphatic', 'ABNORM_Lungs', 'ABNORM_Musculoskeletal', 'ABNORM_Neurological', 'ABNORM_Other', 'ABNORM_Other_(Specify_location_and_describe)', 'ABNORM_Psychiatric', 'ABNORM_Skin', 'CLIA', 'GWAS', 'WES', 'WGS', 'SVs', 'SANGER', 'IU_Fingerprint', 'RNASEQ', 'RNASEQ_VIS', 'APOE', 'PATHVAR_COUNT', 'VAR_GENE', 'LRRK2', 'GBA', 'VPS35', 'SNCA', 'PRKN', 'PARK7', 'PINK1', 'chr1:154925709:G:C_C_PMVK_rs114138760', 'chr1:155235252:A:G_G_GBA_L444P_rs421016', 'chr1:155235843:T:C_C_GBA_N370S_rs76763715', 'chr1:155236246:G:A_A_GBA_T408M_rs75548401', 'chr1:155236376:C:T_T_GBA_E365K_rs2230288', 'chr1:155240629:C:T_T_GBA_IVS2+1_rs104886460', 'chr1:155240660:G:GC_GC_GBA_84GG_rs387906315', 'chr1:205754444:C:T_C_NUCKS1_rs823118', 'chr1:226728377:T:C_C_ITPKB_rs4653767', 'chr1:232528865:C:T_T_SIPA1L2_rs10797576', 'chr2:101796654:T:C_C_IL1R2/MAP4K4_rs34043159', 'chr2:134782397:C:T_C_ACMSD/TMEM163_rs6430538', 'chr2:165277122:C:T_T_SCN3A/SCN2A_rs353116', 'chr2:168272635:G:T_T_STK39_rs1955337', 'chr3:18235996:T:G_G_SATB1_rs4073221', 'chr3:48711556:G:T_G_NCKIPSD/CDC71/IP6K2_rs12497850', 'chr3:52782824:G:A_A_ITIH1_rs143918452', 'chr3:165773492:C:T_T_BuChE_rs1803274', 'chr3:183044649:G:A_A_MCCC1_rs12637471', 'chr4:950422:A:C_C_TMEM175_rs34884217', 'chr4:958159:T:C_C_TMEM175_rs34311866', 'chr4:15735478:C:A_C_BST1_rs11724635', 'chr4:76277833:C:T_T_FAM47E/STBD1_rs6812193', 'chr4:89704988:G:A_G_SNCA_rs356181', 'chr4:89761420:A:G_G_SNCA_rs3910105', 'chr4:89828149:C:T_T_SNCA_A53T_rs104893877', 'chr4:89828170:G:A_A_SNCA_E46K_rs104893875', 'chr4:89835580:G:C_C_SNCA_A30P_rs104893878', 'chr4:109912954:A:G_G_EGF_rs4444903', 'chr4:110004540:C:T_T_EGF_rs121434567', 'chr4:113439216:T:C_C_ANK2/CAMK2D_rs78738012', 'chr5:60978096:C:A_C_ELOVL7/NDUFAF2_rs2694528', 'chr6:27713436:G:A_A_ZNF184_rs9468199', 'chr6:32218019:C:T_T_NOTCH4_G1739S_rs8192591', 'chr6:32698883:C:T_T_HLA_DBQ1_rs115462410', 'chr7:23254127:A:G_G_GPNMP_rs199347', 'chr8:11854934:A:C_C_CTSB_rs1293298', 'chr8:16839582:G:A_A_MICU3/FGF20_rs591323', 'chr8:22668467:T:C_T_BIN3_rs2280104', 'chr9:17579692:T:G_T_SH3GL2_rs13294100', 'chr10:15527599:C:A_C_FAM171A1/ITGA8_rs10906923', 'chr10:119950976:C:T_T_MIR4682_rs118117788', 'chr11:133895472:T:C_T_MIR4697_rs329648', 'chr12:40220632:C:T_T_LRRK2_rs76904798', 'chr12:40310434:C:G_G_LRRK2_R1441G_rs33939927', 'chr12:40310434:C:T_T_LRRK2_R1441C_rs33939927', 'chr12:40320043:G:C_C_LRRK2_R1628P/H_rs33949390', 'chr12:40321114:A:G_G_LRRK2_Y1699C_rs35801418', 'chr12:40340400:G:A_A_LRRK2_G2019S_rs34637584', 'chr12:40363526:G:A_A_LRRK2_G2385R_rs34778348', 'chr12:122819039:A:G_G_OGFOD2/CCDC62_rs11060180', 'chr14:54882151:C:T_T_GCH1_rs11158026', 'chr14:88006268:C:T_T_GALC/GPR65_rs8005172', 'chr15:61701935:G:A_G_VPS13C_rs2414739', 'chr16:19268142:T:G_T_COQ7/SYT17_rs11343', 'chr16:31110472:G:A_A_ZNF646/KAT8/BCKDK_rs14235', 'chr16:52565276:C:T_T_TOX3/CASC16_rs4784227', 'chr17:17811787:G:A_A_SREBF1_rs11868035', 'chr17:45917282:C:T_T_MAPT_rs17649553', 'chr18:43093415:A:G_G_SYT4/RIT2_rs12456492', 'chr20:3172857:G:A_A_DDRGK1_rs55785911', 'chr22:19942586:T:C_C_COMT_rs737866', 'chr22:19946502:A:G_A_COMT_rs174674', 'chr22:19950115:T:G_T_COMT_rs5993883', 'chr22:19957654:A:G_A_COMT_rs740603', 'chr22:19961340:G:C_G_COMT_rs165656', 'chr22:19962429:A:G_G_COMT_rs6269', 'chr22:19962712:C:T_C_COMT_rs4633', 'chr22:19962905:A:G_G_COMT_rs2239393', 'chr22:19963684:C:G_G_COMT_rs4818', 'chr22:19963748:G:A_A_COMT_rs4680', 'chr22:19969258:G:A_G_COMT_rs165599', 'PROTOCOL', 'EVENT_ID']\n"
     ]
    }
   ],
   "source": [
    "# Load combined dataset\n",
    "df = pd.read_csv(\"PPMI_multimodal_combined.csv\")\n",
    "\n",
    "# Check shape and head\n",
    "print(\"Dataset shape:\", df.shape)\n",
    "df.head()\n",
    "\n",
    "print(list(df.columns))"
   ]
  },
  {
   "cell_type": "code",
   "execution_count": 54,
   "id": "a20e4473",
   "metadata": {},
   "outputs": [
    {
     "name": "stdout",
     "output_type": "stream",
     "text": [
      "Remaining columns after dropping all-NaN cols: 108\n",
      "Remaining NaNs: 0\n"
     ]
    }
   ],
   "source": [
    "# Define target and features\n",
    "y = df['label']\n",
    "X = df.drop(columns=['PATNO', 'label'])\n",
    "\n",
    "# Drop columns with all missing values (or >50% missing if you prefer)\n",
    "missing_threshold = 1.0  # use 0.5 for 50% missingness threshold\n",
    "X = X.loc[:, X.isnull().mean() < missing_threshold]\n",
    "\n",
    "print(\"Remaining columns after dropping all-NaN cols:\", X.shape[1])\n",
    "\n",
    "\n",
    "# Impute missing values with KNN\n",
    "imputer = KNNImputer(n_neighbors=5)\n",
    "X_imputed = pd.DataFrame(imputer.fit_transform(X), columns=X.columns)\n",
    "\n",
    "# Check for any remaining missing values\n",
    "print(\"Remaining NaNs:\", X_imputed.isna().sum().sum())\n"
   ]
  },
  {
   "cell_type": "code",
   "execution_count": 55,
   "id": "f5badee5",
   "metadata": {},
   "outputs": [
    {
     "name": "stdout",
     "output_type": "stream",
     "text": [
      "Original class distribution: Counter({0: 566, 1: 191})\n",
      "Resampled class distribution: Counter({1: 566, 0: 566})\n"
     ]
    }
   ],
   "source": [
    "# Print original class distribution\n",
    "print(\"Original class distribution:\", Counter(y))\n",
    "\n",
    "# Apply SMOTE\n",
    "smote = SMOTE(random_state=42)\n",
    "X_resampled, y_resampled = smote.fit_resample(X_imputed, y)\n",
    "\n",
    "print(\"Resampled class distribution:\", Counter(y_resampled))\n"
   ]
  },
  {
   "cell_type": "code",
   "execution_count": 58,
   "id": "32c6fd6c",
   "metadata": {},
   "outputs": [
    {
     "name": "stdout",
     "output_type": "stream",
     "text": [
      "                                 feature  rf_importance\n",
      "0                              FEATBRADY       0.234270\n",
      "2                              FEATRIGID       0.150661\n",
      "1                             FEATPOSINS       0.133246\n",
      "3                             FEATTREMOR       0.083607\n",
      "12                   ABNORM_Neurological       0.047872\n",
      "4                              INVESTAST       0.015265\n",
      "54  chr4:958159:T:C_C_TMEM175_rs34311866       0.013500\n",
      "25                         PATHVAR_COUNT       0.012834\n",
      "20                                   SVs       0.011475\n",
      "26                              VAR_GENE       0.010852\n"
     ]
    }
   ],
   "source": [
    "rf_importance_df = pd.DataFrame({\n",
    "    'feature': X_train.columns,\n",
    "    'rf_importance': rf.feature_importances_\n",
    "}).sort_values(by='rf_importance', ascending=False)\n",
    "\n",
    "print(rf_importance_df.head(10))"
   ]
  },
  {
   "cell_type": "code",
   "execution_count": 57,
   "id": "684688e8",
   "metadata": {},
   "outputs": [
    {
     "name": "stdout",
     "output_type": "stream",
     "text": [
      "Classification Report:\n",
      "              precision    recall  f1-score   support\n",
      "\n",
      "           0       0.97      0.94      0.95       170\n",
      "           1       0.94      0.97      0.95       170\n",
      "\n",
      "    accuracy                           0.95       340\n",
      "   macro avg       0.95      0.95      0.95       340\n",
      "weighted avg       0.95      0.95      0.95       340\n",
      "\n",
      "ROC-AUC Score: 0.9913840830449827\n"
     ]
    }
   ],
   "source": [
    "# Train-test split (stratified)\n",
    "X_train, X_test, y_train, y_test = train_test_split(\n",
    "    X_resampled, y_resampled, test_size=0.3, random_state=42, stratify=y_resampled\n",
    ")\n",
    "\n",
    "# Train a random forest\n",
    "rf = RandomForestClassifier(n_estimators=200, random_state=42)\n",
    "rf.fit(X_train, y_train)\n",
    "\n",
    "# Predict\n",
    "y_pred = rf.predict(X_test)\n",
    "y_proba = rf.predict_proba(X_test)[:, 1]\n",
    "\n",
    "# Evaluate\n",
    "print(\"Classification Report:\")\n",
    "print(classification_report(y_test, y_pred))\n",
    "\n",
    "print(\"ROC-AUC Score:\", roc_auc_score(y_test, y_proba))\n"
   ]
  },
  {
   "cell_type": "code",
   "execution_count": 49,
   "id": "2cc6ca27",
   "metadata": {},
   "outputs": [
    {
     "name": "stdout",
     "output_type": "stream",
     "text": [
      "      feature  mean_abs_shap\n",
      "0   FEATBRADY       0.004452\n",
      "1  FEATPOSINS       0.004452\n"
     ]
    }
   ],
   "source": [
    "import shap\n",
    "import numpy as np\n",
    "import pandas as pd\n",
    "\n",
    "# Use TreeExplainer with the raw model and no background data\n",
    "explainer = shap.TreeExplainer(rf)\n",
    "\n",
    "# This returns a list of arrays, one for each class\n",
    "shap_values = explainer.shap_values(X_test)\n",
    "\n",
    "# Get SHAP values for class 1\n",
    "shap_values_class_1 = shap_values[1]\n",
    "\n",
    "# Make sure it's aligned with X_test\n",
    "mean_abs = np.abs(shap_values_class_1).mean(axis=0)\n",
    "\n",
    "# Truncate or align just in case\n",
    "min_len = min(len(mean_abs), len(X_test.columns))\n",
    "\n",
    "shap_importance_df = pd.DataFrame({\n",
    "    'feature': X_test.columns[:min_len],\n",
    "    'mean_abs_shap': mean_abs[:min_len]\n",
    "}).sort_values(by='mean_abs_shap', ascending=False).reset_index(drop=True)\n",
    "\n",
    "# Show top features\n",
    "print(shap_importance_df.head(20))\n",
    "\n",
    "\n"
   ]
  }
 ],
 "metadata": {
  "kernelspec": {
   "display_name": ".venv",
   "language": "python",
   "name": "python3"
  },
  "language_info": {
   "codemirror_mode": {
    "name": "ipython",
    "version": 3
   },
   "file_extension": ".py",
   "mimetype": "text/x-python",
   "name": "python",
   "nbconvert_exporter": "python",
   "pygments_lexer": "ipython3",
   "version": "3.13.3"
  }
 },
 "nbformat": 4,
 "nbformat_minor": 5
}
